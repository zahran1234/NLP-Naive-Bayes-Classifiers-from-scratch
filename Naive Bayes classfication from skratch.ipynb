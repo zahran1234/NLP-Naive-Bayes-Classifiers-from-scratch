{
  "nbformat": 4,
  "nbformat_minor": 0,
  "metadata": {
    "colab": {
      "provenance": []
    },
    "kernelspec": {
      "name": "python3",
      "display_name": "Python 3"
    },
    "language_info": {
      "name": "python"
    }
  },
  "cells": [
    {
      "cell_type": "code",
      "execution_count": 235,
      "metadata": {
        "id": "LJ6s9_aSHFhR"
      },
      "outputs": [],
      "source": []
    },
    {
      "cell_type": "markdown",
      "source": [
        "# **GET NFA**"
      ],
      "metadata": {
        "id": "CUgJ-ambOTEF"
      }
    },
    {
      "cell_type": "code",
      "source": [
        "NFA={}\n",
        "for i in range(4):\n",
        "  if i==0:\n",
        "    NFA[(\"q\"+str(i),0)]=[\"q0\"]\n",
        "    NFA[(\"q\"+str(i),1)]=[\"q0\", \"q\"+str(i+1)]\n",
        "  else:\n",
        "    NFA[(\"q\"+str(i),0)]=[\"q\"+str(i+1)]\n",
        "    NFA[(\"q\"+str(i),1)]=[\"q\"+str(i+1)]\n"
      ],
      "metadata": {
        "id": "1OSK4z1eJB-l"
      },
      "execution_count": 236,
      "outputs": []
    },
    {
      "cell_type": "code",
      "source": [
        "NFA"
      ],
      "metadata": {
        "colab": {
          "base_uri": "https://localhost:8080/"
        },
        "id": "R7hOzNOyOIBB",
        "outputId": "694393f3-604b-4b2d-a98f-c38ef30005fd"
      },
      "execution_count": 237,
      "outputs": [
        {
          "output_type": "execute_result",
          "data": {
            "text/plain": [
              "{('q0', 0): ['q0'],\n",
              " ('q0', 1): ['q0', 'q1'],\n",
              " ('q1', 0): ['q2'],\n",
              " ('q1', 1): ['q2'],\n",
              " ('q2', 0): ['q3'],\n",
              " ('q2', 1): ['q3'],\n",
              " ('q3', 0): ['q4'],\n",
              " ('q3', 1): ['q4']}"
            ]
          },
          "metadata": {},
          "execution_count": 237
        }
      ]
    },
    {
      "cell_type": "code",
      "source": [
        "def get(NFA,stats):\n",
        "  new0=[]\n",
        "  new1=[]\n",
        "  for x in stats:\n",
        "    if (x,0) in list(NFA.keys()):\n",
        "     \n",
        "      new0.append(NFA[(x,0)])\n",
        "      new1.append(NFA[(x,1)])\n",
        "  new0=[i for x in new0 for i in x]\n",
        "  new1=[i for x in new1 for i in x]\n",
        "\n",
        "      \n",
        "  return new0,new1\n",
        "\n"
      ],
      "metadata": {
        "id": "D7IL5ztJZI14"
      },
      "execution_count": 238,
      "outputs": []
    },
    {
      "cell_type": "code",
      "source": [
        "def convert_to_DFA(NFA):\n",
        "  counter=5\n",
        "  rename={}\n",
        "  DFA={}\n",
        "  for i in (NFA.keys()):\n",
        "    \n",
        "    if len(NFA[i])>1:\n",
        "      x,y=get(NFA,NFA[i])\n",
        "      rename[\"q\"+str(counter)]=NFA[i]\n",
        "      DFA[(\"q\"+str(counter),0)]=x\n",
        "      DFA[(\"q\"+str(counter),1)]=y\n",
        "      counter+=1\n",
        "      break\n",
        "    DFA[i]=NFA[i]\n",
        "  while(True):\n",
        "    count=0\n",
        "    key1=DFA[list(DFA.keys())[-2]]\n",
        "    key2=DFA[list(DFA.keys())[-1]]\n",
        "    \n",
        "   \n",
        "    if len(key1)>1:\n",
        "      \n",
        "      x,y=get(NFA,key1)\n",
        "      \n",
        "      rename[\"q\"+str(counter)]=key1\n",
        "      DFA[(\"q\"+str(counter),0)]=x\n",
        "      DFA[(\"q\"+str(counter),1)]=y\n",
        "      counter+=1\n",
        "      \n",
        "    if len(key2)>1:\n",
        "      x,y=get(NFA,key2)\n",
        "      rename[\"q\"+str(counter)]=key2\n",
        "      DFA[(\"q\"+str(counter),0)]=x\n",
        "      DFA[(\"q\"+str(counter),1)]=y\n",
        "      counter+=1\n",
        "      \n",
        "    \n",
        "    if key1==DFA[list(DFA.keys())[-2]] and key2 == DFA[list(DFA.keys())[-1]]:\n",
        "      break\n",
        "\n",
        "\n",
        "  \n",
        "  return DFA ,rename\n",
        "        \n",
        "        \n",
        "\n"
      ],
      "metadata": {
        "id": "5sRiQ0i6SRX-"
      },
      "execution_count": 243,
      "outputs": []
    },
    {
      "cell_type": "code",
      "source": [
        "x,y=convert_to_DFA(NFA)"
      ],
      "metadata": {
        "id": "70s67jvqqx3k"
      },
      "execution_count": 244,
      "outputs": []
    },
    {
      "cell_type": "markdown",
      "source": [
        "here rename dic \n",
        "\n",
        "q5=q0,q1"
      ],
      "metadata": {
        "id": "LOPKZLo8CWKO"
      }
    },
    {
      "cell_type": "code",
      "source": [
        "y"
      ],
      "metadata": {
        "colab": {
          "base_uri": "https://localhost:8080/"
        },
        "id": "1Y2XoYiZzpjP",
        "outputId": "1ce7f36f-587f-427d-bbaa-61c57222f24e"
      },
      "execution_count": 245,
      "outputs": [
        {
          "output_type": "execute_result",
          "data": {
            "text/plain": [
              "{'q5': ['q0', 'q1'],\n",
              " 'q6': ['q0', 'q2'],\n",
              " 'q7': ['q0', 'q1', 'q2'],\n",
              " 'q8': ['q0', 'q2', 'q3'],\n",
              " 'q9': ['q0', 'q1', 'q2', 'q3'],\n",
              " 'q10': ['q0', 'q2', 'q3', 'q4'],\n",
              " 'q11': ['q0', 'q1', 'q2', 'q3', 'q4']}"
            ]
          },
          "metadata": {},
          "execution_count": 245
        }
      ]
    },
    {
      "cell_type": "markdown",
      "source": [
        "# **transation table for DFA**"
      ],
      "metadata": {
        "id": "zPVdl-snCl9-"
      }
    },
    {
      "cell_type": "code",
      "source": [
        "x"
      ],
      "metadata": {
        "colab": {
          "base_uri": "https://localhost:8080/"
        },
        "id": "j3sdWHVfBvr9",
        "outputId": "988080f0-823f-4cc6-ca69-883ac15f02cc"
      },
      "execution_count": 246,
      "outputs": [
        {
          "output_type": "execute_result",
          "data": {
            "text/plain": [
              "{('q0', 0): ['q0'],\n",
              " ('q5', 0): ['q0', 'q2'],\n",
              " ('q5', 1): ['q0', 'q1', 'q2'],\n",
              " ('q6', 0): ['q0', 'q3'],\n",
              " ('q6', 1): ['q0', 'q1', 'q3'],\n",
              " ('q7', 0): ['q0', 'q2', 'q3'],\n",
              " ('q7', 1): ['q0', 'q1', 'q2', 'q3'],\n",
              " ('q8', 0): ['q0', 'q3', 'q4'],\n",
              " ('q8', 1): ['q0', 'q1', 'q3', 'q4'],\n",
              " ('q9', 0): ['q0', 'q2', 'q3', 'q4'],\n",
              " ('q9', 1): ['q0', 'q1', 'q2', 'q3', 'q4'],\n",
              " ('q10', 0): ['q0', 'q3', 'q4'],\n",
              " ('q10', 1): ['q0', 'q1', 'q3', 'q4'],\n",
              " ('q11', 0): ['q0', 'q2', 'q3', 'q4'],\n",
              " ('q11', 1): ['q0', 'q1', 'q2', 'q3', 'q4']}"
            ]
          },
          "metadata": {},
          "execution_count": 246
        }
      ]
    }
  ]
}